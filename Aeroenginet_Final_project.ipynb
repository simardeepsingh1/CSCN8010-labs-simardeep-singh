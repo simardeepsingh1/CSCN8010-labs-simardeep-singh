{
 "cells": [
  {
   "cell_type": "markdown",
   "metadata": {},
   "source": [
    "\n",
    "<b><h1 style=\"text-align: center;color:aqua\">Aero-Engine Blade <span style=\"color:yellow\">Defect \n",
    "Detection</span></h1><b>\n",
    "<h4 style=\"text-align: center;color:yellow\">John Alber, <span style=\"color:aqua\">8976716</span></h4>\n",
    "<h4 style=\"text-align: center;color:yellow\">Simardeep Singh, <span style=\"color:aqua\">8976948</span></h4>\n"
   ]
  },
  {
   "cell_type": "markdown",
   "metadata": {},
   "source": [
    "#### **This project focuses on the identification and classification of defects in aero-engine blades. We employ a convolutional neural network (CNN), more specifically, a deformable convolutional neural network (Deformable ConvNet) capable of adapting to geometric transformations, to detect various types of defects like scratches, dots, creases, and damage. The robustness of this approach allows for effective performance despite the complex patterns and variations in the blade images.**\n",
    "\n",
    "[`LINK TO KAGGLE DATASET`](https://www.kaggle.com/datasets/wolfmedal/aero-engine-defect-new?resource=download)"
   ]
  },
  {
   "cell_type": "markdown",
   "metadata": {},
   "source": [
    "#### `Data Files Path`"
   ]
  },
  {
   "cell_type": "markdown",
   "metadata": {},
   "source": [
    "The [dataset]('https://www.kaggle.com/discussions/accomplishments/479710') comprises numerous high-resolution images of turbine blades, spanning diverse engine types and various defect conditions. These images are stored digitally, boasting moderate resolution and exceptional clarity to facilitate the clear identification and detailed analysis of defects. Credits to HSLING for this dataset from kaggle."
   ]
  },
  {
   "cell_type": "code",
   "execution_count": 1,
   "metadata": {},
   "outputs": [],
   "source": [
    "train_images_dir = 'data\\\\Aero-engine_defect-detect_new\\\\images\\\\train' #Path\n",
    "train_labels_dir = 'data\\\\Aero-engine_defect-detect_new\\\\images\\\\val'\n",
    "val_images_dir = 'data\\\\Aero-engine_defect-detect_new\\labels\\\\train'\n",
    "val_labels_dir = 'data\\\\Aero-engine_defect-detect_new\\\\labels\\\\val'"
   ]
  },
  {
   "cell_type": "markdown",
   "metadata": {},
   "source": [
    "Path of the data is set in variable"
   ]
  },
  {
   "cell_type": "markdown",
   "metadata": {},
   "source": [
    "####   `Import Liabraries`"
   ]
  },
  {
   "cell_type": "code",
   "execution_count": null,
   "metadata": {},
   "outputs": [],
   "source": [
    "import os\n",
    "import torch\n",
    "import torch.nn as nn\n",
    "import torch.nn.functional as F\n",
    "import torch.optim as optim\n",
    "from torch.utils.data import DataLoader,Dataset\n",
    "from torch.utils.data.dataloader import default_collate\n",
    "from torchvision.transforms import Compose, Resize, ToTensor\n",
    "from glob import glob\n",
    "from PIL import Image,ImageTk\n",
    "from sklearn.metrics import confusion_matrix, classification_report\n",
    "import seaborn as sns\n",
    "import matplotlib.pyplot as plt\n",
    "import tkinter as tk\n",
    "from tkinter import filedialog\n",
    "import numpy as np"
   ]
  },
  {
   "cell_type": "markdown",
   "metadata": {},
   "source": [
    "Imported all the required Libraries"
   ]
  },
  {
   "cell_type": "markdown",
   "metadata": {},
   "source": [
    "####    `Data Preprocessing`\n",
    "#### **The TurbineBladeDataset class handles data loading and preprocessing**"
   ]
  },
  {
   "cell_type": "code",
   "execution_count": 4,
   "metadata": {},
   "outputs": [],
   "source": [
    "\n",
    "class TurbineBladeDataset(Dataset):\n",
    "    def __init__(self, image_dir, label_dir=None, class_map=None, transform=None):\n",
    "        self.image_files = glob(os.path.join(image_dir, '*.jpg'))\n",
    "        self.label_dir = label_dir\n",
    "        self.class_map = class_map  \n",
    "        self.transform = transform if transform else Compose([\n",
    "            Resize((224, 224)), \n",
    "            ToTensor()\n",
    "        ])\n",
    "        print(f\"Found {len(self.image_files)} images in {image_dir}\")\n",
    "\n",
    "    def __len__(self):\n",
    "        return len(self.image_files)\n",
    "\n",
    "    def __getitem__(self, idx):\n",
    "        img_path = self.image_files[idx]\n",
    "        image = Image.open(img_path).convert('RGB')\n",
    "        if self.transform:\n",
    "            image = self.transform(image)\n",
    "        \n",
    "        label = -1  \n",
    "        bbox = [0.0, 0.0, 0.0, 0.0]  \n",
    "        \n",
    "        if self.label_dir:\n",
    "            label_file = os.path.join(self.label_dir, os.path.splitext(os.path.basename(img_path))[0] + '.txt')\n",
    "            if os.path.exists(label_file):\n",
    "                try:\n",
    "                    with open(label_file, 'r') as file:\n",
    "                        line = file.readline().strip()\n",
    "                        label, bbox = self.parse_label(line)\n",
    "                except Exception as e:\n",
    "                    print(f\"Error reading {label_file}: {e}\")\n",
    "        \n",
    "        \n",
    "        return image, torch.tensor(label, dtype=torch.long), torch.tensor(bbox, dtype=torch.float32)\n",
    "\n",
    "    @staticmethod\n",
    "    def parse_label(label_str):\n",
    "        parts = label_str.split()\n",
    "        class_id = int(parts[0])\n",
    "        bbox = [float(x) for x in parts[1:]]\n",
    "        return class_id, bbox\n"
   ]
  },
  {
   "cell_type": "code",
   "execution_count": 5,
   "metadata": {},
   "outputs": [],
   "source": [
    "\n",
    "def custom_collate(batch):\n",
    "    batch = [item for item in batch if item[1] != -1]\n",
    "    if not batch:\n",
    "        return torch.Tensor(), torch.Tensor(), torch.Tensor()\n",
    "    return default_collate(batch)\n"
   ]
  },
  {
   "cell_type": "markdown",
   "metadata": {},
   "source": [
    "#### `Model Definition`\n",
    "#### **DeformableConvNet**"
   ]
  },
  {
   "cell_type": "markdown",
   "metadata": {},
   "source": [
    "This model is a convolutional neural network (CNN) called \"DeformableConvNet\". It is  designed for image classification. It consists of two convolutional layers followed by max pooling, then two fully connected layers for classification. The model takes an input image and outputs the logits for each class."
   ]
  },
  {
   "cell_type": "code",
   "execution_count": 6,
   "metadata": {},
   "outputs": [],
   "source": [
    "\n",
    "class DeformableConvNet(nn.Module):\n",
    "    def __init__(self, num_classes=4):\n",
    "        super(DeformableConvNet, self).__init__()\n",
    "        self.conv1 = nn.Conv2d(3, 32, kernel_size=3, padding=1)\n",
    "        self.pool = nn.MaxPool2d(2, 2)\n",
    "        self.conv2 = nn.Conv2d(32, 64, kernel_size=3, padding=1)\n",
    "        self.fc1 = nn.Linear(64 * 56 * 56, 512)\n",
    "        self.fc2 = nn.Linear(512, num_classes)\n",
    "\n",
    "    def forward(self, x):\n",
    "        x = self.pool(F.relu(self.conv1(x)))\n",
    "        x = self.pool(F.relu(self.conv2(x)))\n",
    "        x = torch.flatten(x, 1)\n",
    "        x = F.relu(self.fc1(x))\n",
    "        x = self.fc2(x)\n",
    "        return x\n",
    "\n"
   ]
  },
  {
   "cell_type": "markdown",
   "metadata": {},
   "source": [
    "#### `Training Procedure`\n",
    "The training process involves running multiple epochs where the model learns to minimize the error between its predictions and the true labels."
   ]
  },
  {
   "cell_type": "code",
   "execution_count": 19,
   "metadata": {},
   "outputs": [
    {
     "name": "stdout",
     "output_type": "stream",
     "text": [
      "Found 257 images in C:\\Foundations_of_Machine_Learning_Frameworks_lab\\Project\\Aero-engine_defect-detect_new\\images\\train\n",
      "Epoch 1: Loss 2.4641415511860565\n",
      "Epoch 2: Loss 0.8993928379872266\n",
      "Epoch 3: Loss 0.8378185805152444\n",
      "Epoch 4: Loss 0.7273167827550102\n",
      "Epoch 5: Loss 0.6709664499058443\n",
      "Epoch 6: Loss 0.7701271281522863\n",
      "Epoch 7: Loss 0.6570083376239327\n",
      "Epoch 8: Loss 0.5181851422085482\n",
      "Epoch 9: Loss 0.4549737112487064\n",
      "Epoch 10: Loss 0.40508269737748537\n",
      "Epoch 11: Loss 0.4670435029684621\n",
      "Epoch 12: Loss 0.5224999943200279\n",
      "Epoch 13: Loss 0.3593538269838866\n",
      "Epoch 14: Loss 0.30164120609269424\n",
      "Epoch 15: Loss 0.3199978321790695\n"
     ]
    }
   ],
   "source": [
    "train_dataset = TurbineBladeDataset(train_images_dir, train_labels_dir)\n",
    "train_loader = DataLoader(train_dataset, batch_size=16, shuffle=True, collate_fn=custom_collate)\n",
    "\n",
    "model = DeformableConvNet(num_classes=4)\n",
    "criterion = nn.CrossEntropyLoss()\n",
    "optimizer = optim.Adam(model.parameters(), lr=0.001)\n",
    "\n",
    "def train_model(model, train_loader, criterion, optimizer, num_epochs=15):\n",
    "    for epoch in range(num_epochs):\n",
    "        model.train()\n",
    "        total_loss = 0\n",
    "        for images, labels, _ in train_loader:\n",
    "            if images.size(0) == 0:\n",
    "                continue\n",
    "            optimizer.zero_grad()\n",
    "            outputs = model(images)\n",
    "            loss = criterion(outputs, labels)\n",
    "            loss.backward()\n",
    "            optimizer.step()\n",
    "            total_loss += loss.item()\n",
    "        print(f'Epoch {epoch + 1}: Loss {total_loss / len(train_loader)}')\n",
    "\n",
    "train_model(model, train_loader, criterion, optimizer)\n"
   ]
  },
  {
   "cell_type": "markdown",
   "metadata": {},
   "source": [
    "This indicates that the training progress of a neural network model over 15 epochs using a dataset containing 257 images. Initially, the loss is relatively high at 2.46 in the first epoch but steadily decreases over subsequent epochs, reaching a low value of 0.32 by epoch 15. Eventhough there are some fluctuations in the loss values, overall, they demonstrate a decreasing trend, suggesting that the model is effectively learning and converging towards a better solution. This reduction in loss indicates improved performance of the model on the training data, highlighting successful training and learning progress."
   ]
  },
  {
   "cell_type": "markdown",
   "metadata": {},
   "source": [
    "#### `Evaluation Metrics`\n",
    "After training, we evaluate the model's performance on unseen data from the validation set to ensure its effectiveness and generalization capability."
   ]
  },
  {
   "cell_type": "markdown",
   "metadata": {},
   "source": [
    "The function `evaluate_model` iterates through the validation DataLoader, computes the model's predictions on each batch of images, compares them with the ground truth labels, and calculates the accuracy."
   ]
  },
  {
   "cell_type": "code",
   "execution_count": 21,
   "metadata": {},
   "outputs": [
    {
     "name": "stdout",
     "output_type": "stream",
     "text": [
      "Found 73 images in C:\\Foundations_of_Machine_Learning_Frameworks_lab\\Project\\Aero-engine_defect-detect_new\\images\\val\n",
      "Validation Accuracy: 92.31%\n"
     ]
    }
   ],
   "source": [
    "def evaluate_model(model, val_loader):\n",
    "    model.eval()\n",
    "    total_correct = 0\n",
    "    total_images = 0\n",
    "    with torch.no_grad():\n",
    "        for images, labels, _ in val_loader:\n",
    "            outputs = model(images)\n",
    "            _, predicted = torch.max(outputs.data, 1)\n",
    "            total_correct += (predicted == labels).sum().item()\n",
    "            total_images += labels.size(0)\n",
    "    accuracy = total_correct / total_images * 100\n",
    "    print(f'Validation Accuracy: {accuracy:.2f}%')\n",
    "\n",
    "# Prepare the validation dataset and loader\n",
    "val_dataset = TurbineBladeDataset(val_images_dir, val_labels_dir)\n",
    "val_loader = DataLoader(val_dataset, batch_size=16, shuffle=False, collate_fn=custom_collate)\n",
    "\n",
    "# Evaluate the model\n",
    "evaluate_model(model, val_loader)\n"
   ]
  },
  {
   "cell_type": "markdown",
   "metadata": {},
   "source": [
    "The output indicates that there are 73 images in the validation dataset, and the model achieved an accuracy of 92.31% on this dataset. This suggests that the model performs well on unseen data, with a high accuracy rate, indicating its effectiveness in generalizing from the training data to new, unseen examples."
   ]
  },
  {
   "cell_type": "markdown",
   "metadata": {},
   "source": [
    "#### `Results Visualization`\n",
    "To better interpret the model's performance, we generate a confusion matrix and a classification report. "
   ]
  },
  {
   "cell_type": "markdown",
   "metadata": {},
   "source": [
    "#### **Confusion Matrix and Classification Report**"
   ]
  },
  {
   "cell_type": "code",
   "execution_count": 22,
   "metadata": {},
   "outputs": [
    {
     "name": "stdout",
     "output_type": "stream",
     "text": [
      "              precision    recall  f1-score   support\n",
      "\n",
      "     scratch       0.91      0.97      0.94        33\n",
      "       dirty       1.00      1.00      1.00         1\n",
      "      damage       0.94      0.83      0.88        18\n",
      "\n",
      "    accuracy                           0.92        52\n",
      "   macro avg       0.95      0.93      0.94        52\n",
      "weighted avg       0.92      0.92      0.92        52\n",
      "\n"
     ]
    },
    {
     "data": {
      "image/png": "[encoded data removed]",
      "text/plain": [
       "<Figure size 1000x700 with 2 Axes>"
      ]
     },
     "metadata": {},
     "output_type": "display_data"
    }
   ],
   "source": [
    "\n",
    "def plot_confusion_matrix(true_labels, predictions, class_names):\n",
    "    cm = confusion_matrix(true_labels, predictions)\n",
    "    plt.figure(figsize=(10, 7))\n",
    "    sns.heatmap(cm, annot=True, fmt='g', cmap='Blues', xticklabels=class_names, yticklabels=class_names)\n",
    "    plt.xlabel('Predicted')\n",
    "    plt.ylabel('True')\n",
    "    plt.show()\n",
    "\n",
    "def get_predictions_and_labels(model, data_loader):\n",
    "    model.eval()\n",
    "    all_preds = []\n",
    "    all_labels = []\n",
    "    with torch.no_grad():\n",
    "        for images, labels, _ in data_loader:\n",
    "            outputs = model(images)\n",
    "            _, preds = torch.max(outputs, 1)\n",
    "            all_preds.extend(preds.cpu().numpy())\n",
    "            all_labels.extend(labels.cpu().numpy())\n",
    "    return all_labels, all_preds\n",
    "\n",
    "# Get labels and predictions\n",
    "labels, preds = get_predictions_and_labels(model, val_loader)\n",
    "\n",
    "# Plot confusion matrix and classification report\n",
    "class_names = ['scratch',  'dirty', 'damage']  \n",
    "print(classification_report(labels, preds, target_names=class_names))\n",
    "plot_confusion_matrix(labels, preds, class_names)\n"
   ]
  },
  {
   "cell_type": "markdown",
   "metadata": {},
   "source": [
    "The classification report provides the overall accuracy, macro average, and weighted average values. The model demonstrates high precision, recall, and F1-score for most classes, with an overall accuracy of 92%. It includes precision, recall, and F1-score for each class (\"scratch,\" \"dirty,\" and \"damage\")."
   ]
  },
  {
   "cell_type": "markdown",
   "metadata": {},
   "source": [
    "The rows of the confusion matrix represent the actual categories of the images, and the columns represent the categories that the algorithm predicted the images belonged to. The diagonal cells of the confusion matrix show the number of images that were correctly classified. The off-diagonal cells show the number of images that were classified incorrectly. The algorithm performed well at classifying scratched images and images with damage. "
   ]
  },
  {
   "cell_type": "markdown",
   "metadata": {},
   "source": [
    "#### `GUI Implementation`"
   ]
  },
  {
   "cell_type": "code",
   "execution_count": null,
   "metadata": {},
   "outputs": [],
   "source": [
    "\n",
    "class ImageClassifierGUI:\n",
    "    def __init__(self, model):\n",
    "        self.model = model\n",
    "        self.root = tk.Tk()\n",
    "        self.root.title(\"Image Classifier\")\n",
    "\n",
    "        self.label = tk.Label(self.root, text=\"Upload an image:\")\n",
    "        self.label.pack()\n",
    "\n",
    "        self.upload_button = tk.Button(self.root, text=\"Upload Image\", command=self.upload_image)\n",
    "        self.upload_button.pack()\n",
    "\n",
    "        self.image_label = tk.Label(self.root)\n",
    "        self.image_label.pack()\n",
    "\n",
    "        self.prediction_label = tk.Label(self.root, text=\"\")\n",
    "        self.prediction_label.pack()\n",
    "\n",
    "    def upload_image(self):\n",
    "        file_path = filedialog.askopenfilename()\n",
    "        if file_path:\n",
    "            image = Image.open(file_path)\n",
    "            image = image.resize((224, 224))  # Resize image to match model input size\n",
    "            image = ToTensor()(image).unsqueeze(0)  # Convert image to tensor and add batch dimension\n",
    "            prediction = self.predict(image)\n",
    "            self.display_image(image)\n",
    "            self.prediction_label.config(text=f\"Prediction: {prediction}\")\n",
    "\n",
    "    def predict(self, image):\n",
    "        self.model.eval()\n",
    "        with torch.no_grad():\n",
    "            outputs = self.model(image)\n",
    "            _, predicted = torch.max(outputs, 1)\n",
    "            prediction = self.get_class_name(predicted.item())\n",
    "        return prediction\n",
    "\n",
    "    def get_class_name(self, class_index):\n",
    "        class_names = ['scratch', 'dirty', 'damage']  \n",
    "        return class_names[class_index]\n",
    "\n",
    "    def display_image(self, image):\n",
    "        image = image.squeeze(0)  \n",
    "        image = image.permute(1, 2, 0)  \n",
    "        image = (image * 255).numpy().astype(np.uint8)  \n",
    "        image = Image.fromarray(image)\n",
    "        image = ImageTk.PhotoImage(image)\n",
    "        self.image_label.configure(image=image)\n",
    "        self.image_label.image = image\n",
    "\n",
    "    def run(self):\n",
    "        self.root.mainloop()\n",
    "\n",
    "\n",
    "classifier = ImageClassifierGUI(model)\n",
    "classifier.run()\n"
   ]
  }
 ],
 "metadata": {
  "kernelspec": {
   "display_name": "Python 3",
   "language": "python",
   "name": "python3"
  },
  "language_info": {
   "codemirror_mode": {
    "name": "ipython",
    "version": 3
   },
   "file_extension": ".py",
   "mimetype": "text/x-python",
   "name": "python",
   "nbconvert_exporter": "python",
   "pygments_lexer": "ipython3",
   "version": "3.11.7"
  }
 },
 "nbformat": 4,
 "nbformat_minor": 2
}
